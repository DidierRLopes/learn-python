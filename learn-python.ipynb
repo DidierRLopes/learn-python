{
 "cells": [
  {
   "cell_type": "markdown",
   "id": "8e513b9f",
   "metadata": {},
   "source": [
    "## Primitive Variables"
   ]
  },
  {
   "cell_type": "code",
   "execution_count": 6,
   "id": "990654c5",
   "metadata": {},
   "outputs": [],
   "source": [
    "a = 123  # integer\n",
    "b = 123.45  # float\n",
    "c = True  # Boolean\n",
    "d = None  # None\n",
    "e = \"Hello World\"  # string"
   ]
  },
  {
   "cell_type": "markdown",
   "id": "43f7fbe4",
   "metadata": {},
   "source": [
    "You can check the type of the variable using the built-in function \"type\""
   ]
  },
  {
   "cell_type": "code",
   "execution_count": 8,
   "id": "3a88f91b",
   "metadata": {},
   "outputs": [
    {
     "data": {
      "text/plain": [
       "int"
      ]
     },
     "execution_count": 8,
     "metadata": {},
     "output_type": "execute_result"
    }
   ],
   "source": [
    "type(a)"
   ]
  },
  {
   "cell_type": "markdown",
   "id": "0eb498b5",
   "metadata": {},
   "source": [
    "You can convert some types to others, using e.g. float(), str(), int(), bool()"
   ]
  },
  {
   "cell_type": "code",
   "execution_count": 11,
   "id": "1197edaf",
   "metadata": {},
   "outputs": [
    {
     "data": {
      "text/plain": [
       "'123'"
      ]
     },
     "execution_count": 11,
     "metadata": {},
     "output_type": "execute_result"
    }
   ],
   "source": [
    "str(a)  # note the '' to represent a str"
   ]
  },
  {
   "cell_type": "markdown",
   "id": "f806e33b",
   "metadata": {},
   "source": [
    "## Print"
   ]
  },
  {
   "cell_type": "markdown",
   "id": "b93107de",
   "metadata": {},
   "source": [
    "If we want to check the value of a stored variable there are 2 main ways:\n",
    "- Running the cell with variable being called last will output the stored value\n",
    "- Wrapping the variable around a print() statement. Works any stage of cell."
   ]
  },
  {
   "cell_type": "code",
   "execution_count": 18,
   "id": "e7197595",
   "metadata": {},
   "outputs": [
    {
     "name": "stdout",
     "output_type": "stream",
     "text": [
      "123\n"
     ]
    },
    {
     "data": {
      "text/plain": [
       "123"
      ]
     },
     "execution_count": 18,
     "metadata": {},
     "output_type": "execute_result"
    }
   ],
   "source": [
    "print(a)\n",
    "a "
   ]
  },
  {
   "cell_type": "markdown",
   "id": "60da6265",
   "metadata": {},
   "source": [
    "If we want to print statements along with variables there are 4 different ways:"
   ]
  },
  {
   "cell_type": "code",
   "execution_count": 85,
   "id": "eaada880",
   "metadata": {},
   "outputs": [
    {
     "name": "stdout",
     "output_type": "stream",
     "text": [
      "The value a is 123\n",
      "The value a is 123\n",
      "The value a is 123\n",
      "The value a is 123\n"
     ]
    }
   ],
   "source": [
    "print(\"The value a is \" + str(a))\n",
    "print(\"The value a is {}\".format(a))\n",
    "print(f\"The value a is {a}\") # preferred\n",
    "print(\"The value a is\", a)"
   ]
  },
  {
   "cell_type": "markdown",
   "id": "606c4547",
   "metadata": {},
   "source": [
    "Note: When printing a statement, you can either use \"\" or ''. And if you want to denote a word with \"\"/'' you need to use the other type to do so. E.g."
   ]
  },
  {
   "cell_type": "code",
   "execution_count": 46,
   "id": "c88ae757",
   "metadata": {},
   "outputs": [
    {
     "name": "stdout",
     "output_type": "stream",
     "text": [
      "Python is 'fun'\n",
      "Python is \"fun\"\n"
     ]
    }
   ],
   "source": [
    "print(\"Python is 'fun'\")\n",
    "print('Python is \"fun\"')"
   ]
  },
  {
   "cell_type": "markdown",
   "id": "ec6cd8ac",
   "metadata": {},
   "source": [
    "## Arithmetic Operations"
   ]
  },
  {
   "cell_type": "markdown",
   "id": "24d49961",
   "metadata": {},
   "source": [
    "Note that the type of the result of arithmetic operations will be dictated by variables used. E.g. if we sum an int with a float, the resulting value type will be float, as we keep higher precision."
   ]
  },
  {
   "cell_type": "code",
   "execution_count": 27,
   "id": "bc485bb7",
   "metadata": {},
   "outputs": [
    {
     "name": "stdout",
     "output_type": "stream",
     "text": [
      "126.0\n",
      "120.0\n",
      "41.0\n",
      "0.0\n",
      "369.0\n",
      "41.0\n",
      "1860867.0\n"
     ]
    }
   ],
   "source": [
    "print(a + 3.0) # addition\n",
    "print(a - 3.0) # subtraction\n",
    "print(a / 3.0) # division\n",
    "print(a % 3.0) # mod\n",
    "print(a * 3.0) # multiplication\n",
    "print(a // 3.0) # floor division\n",
    "print(a ** 3.0) # power of"
   ]
  },
  {
   "cell_type": "markdown",
   "id": "8071a0b9",
   "metadata": {},
   "source": [
    "If we are doing a chain of arithmetic operations it is recommended to use brackets!"
   ]
  },
  {
   "cell_type": "code",
   "execution_count": 28,
   "id": "2ccf97b3",
   "metadata": {},
   "outputs": [
    {
     "data": {
      "text/plain": [
       "63504"
      ]
     },
     "execution_count": 28,
     "metadata": {},
     "output_type": "execute_result"
    }
   ],
   "source": [
    "(2 * (a + 3)) ** 2"
   ]
  },
  {
   "cell_type": "markdown",
   "id": "f6f23f2d",
   "metadata": {},
   "source": [
    "## Comparison Operators"
   ]
  },
  {
   "cell_type": "markdown",
   "id": "b6836c70",
   "metadata": {},
   "source": [
    "These are extremely useful to be used in if/else statements."
   ]
  },
  {
   "cell_type": "code",
   "execution_count": 31,
   "id": "e342008a",
   "metadata": {},
   "outputs": [
    {
     "name": "stdout",
     "output_type": "stream",
     "text": [
      "False\n",
      "True\n",
      "True\n",
      "True\n",
      "False\n",
      "False\n"
     ]
    }
   ],
   "source": [
    "print(a == b)  # True if a and b have the same value\n",
    "print(a != b)  # True if a and b don't have the same value\n",
    "print(a < b)  # True if a is less than b\n",
    "print(a <= b)  # True if a is less than or equal to b\n",
    "print(a > b)  # True if a is more than b\n",
    "print(a >= b)  # True if a is more than or equal to b"
   ]
  },
  {
   "cell_type": "markdown",
   "id": "5d4b358a",
   "metadata": {},
   "source": [
    "## Logical Operators"
   ]
  },
  {
   "cell_type": "markdown",
   "id": "a96784bf",
   "metadata": {},
   "source": [
    "By using logical operators to combine comparison operators we can create complex workflows"
   ]
  },
  {
   "cell_type": "code",
   "execution_count": 42,
   "id": "46be4b11",
   "metadata": {},
   "outputs": [
    {
     "name": "stdout",
     "output_type": "stream",
     "text": [
      "True\n",
      "False\n",
      "False\n"
     ]
    }
   ],
   "source": [
    "f = (a == b)\n",
    "print(c or f)  # True if either c or f are true\n",
    "print(c and f)  # True if both c and f are true\n",
    "print(not c)  # True only if c is False"
   ]
  },
  {
   "cell_type": "markdown",
   "id": "c0292e86",
   "metadata": {},
   "source": [
    "## If Else statements"
   ]
  },
  {
   "cell_type": "markdown",
   "id": "6b491e3e",
   "metadata": {},
   "source": [
    "Note that the indentation is extremely important in python! The code can crash if it misses a single space."
   ]
  },
  {
   "cell_type": "code",
   "execution_count": 33,
   "id": "4bacfabe",
   "metadata": {},
   "outputs": [
    {
     "name": "stdout",
     "output_type": "stream",
     "text": [
      "c is True, then do this!\n"
     ]
    }
   ],
   "source": [
    "if c:\n",
    "    print(\"c is True, then do this!\")\n",
    "else:\n",
    "    print(\"c is False, then do that!\")"
   ]
  },
  {
   "cell_type": "markdown",
   "id": "e664eb80",
   "metadata": {},
   "source": [
    "Each variable has it's own \"True\" and \"False\" types\n",
    "- For a string, \"\" is False, all the rest is True\n",
    "- For a int, 0 is False, all the rest is True\n",
    "- For a float, 0.0 is False, all the rest is True"
   ]
  },
  {
   "cell_type": "code",
   "execution_count": 45,
   "id": "37f7a33a",
   "metadata": {},
   "outputs": [
    {
     "name": "stdout",
     "output_type": "stream",
     "text": [
      "Hello World\n",
      "Var 'a' has a value other than 0, so this condition evaluates to True\n"
     ]
    }
   ],
   "source": [
    "if c and (a < b):\n",
    "    print(e)\n",
    "    if a:\n",
    "        print(\"Var 'a' has a value other than 0, so this condition evaluates to True\")"
   ]
  },
  {
   "cell_type": "markdown",
   "id": "201c0e8c",
   "metadata": {},
   "source": [
    "If the execution flow is not binary we must use \"elif\" statement"
   ]
  },
  {
   "cell_type": "code",
   "execution_count": 83,
   "id": "5006911b",
   "metadata": {},
   "outputs": [
    {
     "name": "stdout",
     "output_type": "stream",
     "text": [
      "The var 'a' is bigger than 10\n"
     ]
    }
   ],
   "source": [
    "if a > 10:\n",
    "    print(\"The var 'a' is bigger than 10\")\n",
    "elif a < 10:\n",
    "    print(\"The var 'a' is smaller than 10\")\n",
    "else:\n",
    "    print(\"The var 'a' is equal to 10\")"
   ]
  },
  {
   "cell_type": "markdown",
   "id": "153c0b1d",
   "metadata": {},
   "source": [
    "## Lists\n",
    "This is an extremely important topic. Lists allows us to group multiple variables together. It can also be used to keep a list of sequential variables, however, we'll see later that np.arrays are more indicated for this"
   ]
  },
  {
   "cell_type": "code",
   "execution_count": 48,
   "id": "953c2982",
   "metadata": {},
   "outputs": [
    {
     "data": {
      "text/plain": [
       "['apple', 'orange', 'tomato', 'banana']"
      ]
     },
     "execution_count": 48,
     "metadata": {},
     "output_type": "execute_result"
    }
   ],
   "source": [
    "fruits = [\"apple\", \"orange\", \"tomato\", \"banana\"]\n",
    "fruits"
   ]
  },
  {
   "cell_type": "markdown",
   "id": "efbd5285",
   "metadata": {},
   "source": [
    "In order to access an element from a list we need to get them through their index. Note that python lists are zero-indexed, therefore, the first element corresponds to index 0."
   ]
  },
  {
   "cell_type": "code",
   "execution_count": 49,
   "id": "2fc4bc25",
   "metadata": {},
   "outputs": [
    {
     "data": {
      "text/plain": [
       "'apple'"
      ]
     },
     "execution_count": 49,
     "metadata": {},
     "output_type": "execute_result"
    }
   ],
   "source": [
    "fruits[0]"
   ]
  },
  {
   "cell_type": "markdown",
   "id": "7fd4c7b6",
   "metadata": {},
   "source": [
    "You can replace a specific list item through their index with"
   ]
  },
  {
   "cell_type": "code",
   "execution_count": 51,
   "id": "bf286b5b",
   "metadata": {},
   "outputs": [
    {
     "data": {
      "text/plain": [
       "['apple', 'orange', 'apricot', 'banana']"
      ]
     },
     "execution_count": 51,
     "metadata": {},
     "output_type": "execute_result"
    }
   ],
   "source": [
    "fruits[2] = \"apricot\"\n",
    "fruits"
   ]
  },
  {
   "cell_type": "markdown",
   "id": "c6e20e53",
   "metadata": {},
   "source": [
    "In addition, you can add/remove items from a list"
   ]
  },
  {
   "cell_type": "code",
   "execution_count": 52,
   "id": "eeff2118",
   "metadata": {},
   "outputs": [
    {
     "name": "stdout",
     "output_type": "stream",
     "text": [
      "['apple', 'orange', 'apricot', 'banana', 'lime']\n",
      "['apple', 'orange', 'banana', 'lime']\n"
     ]
    }
   ],
   "source": [
    "fruits.append(\"lime\")  # add new item to the end of the list\n",
    "print(fruits)\n",
    "fruits.remove(\"apricot\")  # remove item from the list\n",
    "print(fruits)"
   ]
  },
  {
   "cell_type": "markdown",
   "id": "e7b0f25c",
   "metadata": {},
   "source": [
    "A quick way to generate a sequence of numbers as a list is:"
   ]
  },
  {
   "cell_type": "code",
   "execution_count": 59,
   "id": "12914368",
   "metadata": {},
   "outputs": [
    {
     "data": {
      "text/plain": [
       "[0, 2, 4, 6, 8, 10, 12, 14, 16, 18, 20, 22, 24, 26, 28, 30, 32, 34, 36, 38]"
      ]
     },
     "execution_count": 59,
     "metadata": {},
     "output_type": "execute_result"
    }
   ],
   "source": [
    "sequence = list(range(0, 40, 2)) # (from, to, step size)\n",
    "sequence"
   ]
  },
  {
   "cell_type": "markdown",
   "id": "b1f71794",
   "metadata": {},
   "source": [
    "Slicing lists"
   ]
  },
  {
   "cell_type": "code",
   "execution_count": 61,
   "id": "6efce0a3",
   "metadata": {},
   "outputs": [
    {
     "name": "stdout",
     "output_type": "stream",
     "text": [
      "[0, 2, 4]\n",
      "[8, 10, 12, 14, 16, 18, 20, 22, 24, 26, 28, 30, 32, 34, 36, 38]\n",
      "38\n",
      "[2, 6]\n",
      "[38, 36, 34, 32, 30, 28, 26, 24, 22, 20, 18, 16, 14, 12, 10, 8, 6, 4, 2, 0]\n"
     ]
    }
   ],
   "source": [
    "print(sequence[0:3])  # get items 0 through 3 (not included)\n",
    "print(sequence[4:])  # get items 4 onwards\n",
    "print(sequence[-1])  # get last item\n",
    "print(sequence[1:5:2])  # get items from 1 through item 5 (not included) with step size 2\n",
    "print(sequence[::-1])  # get whole list backwords"
   ]
  },
  {
   "cell_type": "markdown",
   "id": "2ce98b83",
   "metadata": {},
   "source": [
    "Helpful functions when using lists"
   ]
  },
  {
   "cell_type": "code",
   "execution_count": 62,
   "id": "789b72ca",
   "metadata": {},
   "outputs": [
    {
     "name": "stdout",
     "output_type": "stream",
     "text": [
      "20\n",
      "0\n",
      "38\n"
     ]
    }
   ],
   "source": [
    "print(len(sequence))  # number of items within the list\n",
    "print(min(sequence))  # max value within the list\n",
    "print(max(sequence))  # min value within the list"
   ]
  },
  {
   "cell_type": "markdown",
   "id": "c6fa28e3",
   "metadata": {},
   "source": [
    "Although we've been playing with variables of same type. Lists can hold different types"
   ]
  },
  {
   "cell_type": "code",
   "execution_count": 63,
   "id": "863ab4fc",
   "metadata": {},
   "outputs": [
    {
     "name": "stdout",
     "output_type": "stream",
     "text": [
      "[3, 'two', True, None]\n"
     ]
    }
   ],
   "source": [
    "mixed = [3, \"two\", True, None]\n",
    "print(mixed)"
   ]
  },
  {
   "cell_type": "markdown",
   "id": "32e06d72",
   "metadata": {},
   "source": [
    "## Sets\n",
    "List that can't contain duplicate items. Can't be indexed or sliced."
   ]
  },
  {
   "cell_type": "code",
   "execution_count": 82,
   "id": "42b7e4bd",
   "metadata": {},
   "outputs": [
    {
     "name": "stdout",
     "output_type": "stream",
     "text": [
      "[0, 2, 4, 6, 8, 10, 12, 14, 16, 18, 20, 22, 24, 26, 28, 30, 32, 34, 36, 38, 10, 10, 10, 10, 10, 10, 10, 10, 10]\n"
     ]
    },
    {
     "data": {
      "text/plain": [
       "{0, 2, 4, 6, 8, 10, 12, 14, 16, 18, 20, 22, 24, 26, 28, 30, 32, 34, 36, 38}"
      ]
     },
     "execution_count": 82,
     "metadata": {},
     "output_type": "execute_result"
    }
   ],
   "source": [
    "sequence.append(10)\n",
    "sequence.append(10)\n",
    "sequence.append(10)\n",
    "print(sequence)\n",
    "\n",
    "set(sequence)"
   ]
  },
  {
   "cell_type": "markdown",
   "id": "69ac62df",
   "metadata": {},
   "source": [
    "## Tuples\n",
    "As it was seen before it is possible to change a list by accessing one of its elements after creation. That means that Lists are a mutable object.\n",
    "\n",
    "Tuples differ from lists there. Tuples are immutable, and usually denote a set of \"characteristics\"."
   ]
  },
  {
   "cell_type": "code",
   "execution_count": 67,
   "id": "fa15f3cd",
   "metadata": {},
   "outputs": [
    {
     "data": {
      "text/plain": [
       "('Didier', 1.85, 'Brown hair')"
      ]
     },
     "execution_count": 67,
     "metadata": {},
     "output_type": "execute_result"
    }
   ],
   "source": [
    "characteristics = (\"Didier\", 1.85, \"Brown hair\")\n",
    "characteristics"
   ]
  },
  {
   "cell_type": "markdown",
   "id": "96534557",
   "metadata": {},
   "source": [
    "Can still be accessed by index, but can't be changed"
   ]
  },
  {
   "cell_type": "code",
   "execution_count": 68,
   "id": "d4b40325",
   "metadata": {},
   "outputs": [
    {
     "data": {
      "text/plain": [
       "1.85"
      ]
     },
     "execution_count": 68,
     "metadata": {},
     "output_type": "execute_result"
    }
   ],
   "source": [
    "characteristics[1]"
   ]
  },
  {
   "cell_type": "markdown",
   "id": "158bb137",
   "metadata": {},
   "source": [
    "## Dictionaries\n",
    "Similar to the concept of a dictionary. They are effectively 2 lists combined: keys and values. We use keys to access values instead of indexing them like a list. Each value is mapped to a unique key. Some properties are:\n",
    "- Values are mapped to a key\n",
    "- Values are accessed by their key\n",
    "- Key are unique and are immutable\n",
    "- Values cannot exist without a key"
   ]
  },
  {
   "cell_type": "code",
   "execution_count": 69,
   "id": "bfb02a8d",
   "metadata": {},
   "outputs": [
    {
     "data": {
      "text/plain": [
       "{'Monday': 'Pizza',\n",
       " 'Tuesday': 'Salad',\n",
       " 'Wednesday': 'Burger',\n",
       " 'Thursday': 'Pasta',\n",
       " 'Friday': 'Sushi'}"
      ]
     },
     "execution_count": 69,
     "metadata": {},
     "output_type": "execute_result"
    }
   ],
   "source": [
    "lunch_meal = {\n",
    "    'Monday': \"Pizza\",\n",
    "    'Tuesday': \"Salad\",\n",
    "    'Wednesday': \"Burger\",\n",
    "    'Thursday': \"Pasta\",\n",
    "    'Friday': \"Sushi\",\n",
    "}\n",
    "lunch_meal"
   ]
  },
  {
   "cell_type": "markdown",
   "id": "6ead1a7d",
   "metadata": {},
   "source": [
    "Unlike lists, the index here works with the key"
   ]
  },
  {
   "cell_type": "code",
   "execution_count": 71,
   "id": "bde4e03e",
   "metadata": {},
   "outputs": [
    {
     "data": {
      "text/plain": [
       "'Burger'"
      ]
     },
     "execution_count": 71,
     "metadata": {},
     "output_type": "execute_result"
    }
   ],
   "source": [
    "lunch_meal[\"Wednesday\"]"
   ]
  },
  {
   "cell_type": "markdown",
   "id": "0f56e900",
   "metadata": {},
   "source": [
    "Adding new elements to a dictionary"
   ]
  },
  {
   "cell_type": "code",
   "execution_count": 73,
   "id": "20839e93",
   "metadata": {},
   "outputs": [
    {
     "data": {
      "text/plain": [
       "{'Monday': 'Pizza',\n",
       " 'Tuesday': 'Salad',\n",
       " 'Wednesday': 'Burger',\n",
       " 'Thursday': 'Pasta',\n",
       " 'Friday': 'Sushi',\n",
       " 'Saturday': 'Curry'}"
      ]
     },
     "execution_count": 73,
     "metadata": {},
     "output_type": "execute_result"
    }
   ],
   "source": [
    "lunch_meal[\"Saturday\"] = \"Curry\"\n",
    "lunch_meal"
   ]
  },
  {
   "cell_type": "markdown",
   "id": "6bc3785c",
   "metadata": {},
   "source": [
    "If the key already exists, it will just update the value accordingly"
   ]
  },
  {
   "cell_type": "code",
   "execution_count": 74,
   "id": "a3fe5b41",
   "metadata": {},
   "outputs": [
    {
     "data": {
      "text/plain": [
       "{'Monday': 'Pizza',\n",
       " 'Tuesday': 'Ramen',\n",
       " 'Wednesday': 'Burger',\n",
       " 'Thursday': 'Pasta',\n",
       " 'Friday': 'Sushi',\n",
       " 'Saturday': 'Curry'}"
      ]
     },
     "execution_count": 74,
     "metadata": {},
     "output_type": "execute_result"
    }
   ],
   "source": [
    "lunch_meal[\"Tuesday\"] = \"Ramen\"\n",
    "lunch_meal"
   ]
  },
  {
   "cell_type": "markdown",
   "id": "55112ff9",
   "metadata": {},
   "source": [
    "Remove a key-value pair"
   ]
  },
  {
   "cell_type": "code",
   "execution_count": 75,
   "id": "e9e96d77",
   "metadata": {},
   "outputs": [
    {
     "data": {
      "text/plain": [
       "{'Tuesday': 'Ramen',\n",
       " 'Wednesday': 'Burger',\n",
       " 'Thursday': 'Pasta',\n",
       " 'Friday': 'Sushi',\n",
       " 'Saturday': 'Curry'}"
      ]
     },
     "execution_count": 75,
     "metadata": {},
     "output_type": "execute_result"
    }
   ],
   "source": [
    "lunch_meal.pop(\"Monday\")\n",
    "lunch_meal"
   ]
  },
  {
   "cell_type": "markdown",
   "id": "aa37bd12",
   "metadata": {},
   "source": [
    "Accessing the list of keys or values"
   ]
  },
  {
   "cell_type": "code",
   "execution_count": 77,
   "id": "62a1b528",
   "metadata": {
    "scrolled": true
   },
   "outputs": [
    {
     "data": {
      "text/plain": [
       "['Tuesday', 'Wednesday', 'Thursday', 'Friday', 'Saturday']"
      ]
     },
     "execution_count": 77,
     "metadata": {},
     "output_type": "execute_result"
    }
   ],
   "source": [
    "list(lunch_meal.keys())"
   ]
  },
  {
   "cell_type": "code",
   "execution_count": 78,
   "id": "701598ce",
   "metadata": {},
   "outputs": [
    {
     "data": {
      "text/plain": [
       "['Ramen', 'Burger', 'Pasta', 'Sushi', 'Curry']"
      ]
     },
     "execution_count": 78,
     "metadata": {},
     "output_type": "execute_result"
    }
   ],
   "source": [
    "list(lunch_meal.values())"
   ]
  },
  {
   "cell_type": "markdown",
   "id": "174a04b4",
   "metadata": {},
   "source": [
    "## Loops\n",
    "'for' loops are extremely useful to process each element of a list individually"
   ]
  },
  {
   "cell_type": "code",
   "execution_count": 86,
   "id": "223a0e3b",
   "metadata": {},
   "outputs": [
    {
     "name": "stdout",
     "output_type": "stream",
     "text": [
      "0\n",
      "1\n",
      "2\n",
      "3\n",
      "4\n",
      "5\n",
      "6\n",
      "7\n",
      "8\n",
      "9\n"
     ]
    }
   ],
   "source": [
    "numbers = list(range(10))\n",
    "for n in numbers:\n",
    "    print(n)"
   ]
  },
  {
   "cell_type": "markdown",
   "id": "6eb1f6c4",
   "metadata": {},
   "source": [
    "'while' loop is another useful loop. This loop doesn't run a predefined number of iterations, instead it stops as soon as a given condition occurs. The same loop above could be written like this:"
   ]
  },
  {
   "cell_type": "code",
   "execution_count": 87,
   "id": "52c1e3a6",
   "metadata": {},
   "outputs": [
    {
     "name": "stdout",
     "output_type": "stream",
     "text": [
      "0\n",
      "1\n",
      "2\n",
      "3\n",
      "4\n",
      "5\n",
      "6\n",
      "7\n",
      "8\n",
      "9\n"
     ]
    }
   ],
   "source": [
    "n = 0\n",
    "while n < 10:\n",
    "    print(n)\n",
    "    n = n + 1"
   ]
  },
  {
   "cell_type": "markdown",
   "id": "fa6635d4",
   "metadata": {},
   "source": [
    "There are other useful python statements that are important to be aware in loops, such as:\n",
    "- break: exits a loop\n",
    "- continue: jump back to beginning of loop without keeping execution"
   ]
  },
  {
   "cell_type": "code",
   "execution_count": 88,
   "id": "c48f4e0a",
   "metadata": {},
   "outputs": [
    {
     "name": "stdout",
     "output_type": "stream",
     "text": [
      "Value: 1\n",
      "Value: 2\n",
      "Value: 3\n",
      "Value: 4\n",
      "Value: 6\n",
      "Value: 7\n",
      "Value: 8\n",
      "Value: 9\n",
      "Value: 10\n",
      "Value: 11\n"
     ]
    }
   ],
   "source": [
    "n = 0\n",
    "while True:\n",
    "    n += 1\n",
    "    \n",
    "    if n == 5:\n",
    "        continue\n",
    "        \n",
    "    if n > 11:\n",
    "        break\n",
    "        \n",
    "    print(f\"Value: {n}\")"
   ]
  },
  {
   "cell_type": "markdown",
   "id": "f79150c0",
   "metadata": {},
   "source": [
    "Note: \"While True\" will loop forever unless there's a break statement within the loop"
   ]
  },
  {
   "cell_type": "markdown",
   "id": "e6d1ef02",
   "metadata": {},
   "source": [
    "## Functions\n",
    "Functions allow to make everything easier in terms of code. Basically by adding an abstraction layer and condensing important workflows"
   ]
  },
  {
   "cell_type": "code",
   "execution_count": 91,
   "id": "6e3b3a37",
   "metadata": {},
   "outputs": [],
   "source": [
    "def error_percentage(estimated: float, true: float) -> float:\n",
    "    \"\"\"This line can be used for documentation, to explain function\n",
    "    \n",
    "    Arguments\n",
    "    ---------\n",
    "    estimated: float\n",
    "        Estimated value\n",
    "    true: float\n",
    "        True value, cannot be zero\n",
    "    \"\"\"\n",
    "    if true == 0:\n",
    "        print(\"The true value cannot be zero!\")\n",
    "        return 100.0\n",
    "    \n",
    "    return (true-estimated)/true"
   ]
  },
  {
   "cell_type": "markdown",
   "id": "e8ca1698",
   "metadata": {},
   "source": [
    "Writing good documentation is important because that can be accessed with ?funcname"
   ]
  },
  {
   "cell_type": "code",
   "execution_count": 92,
   "id": "daf9523d",
   "metadata": {},
   "outputs": [],
   "source": [
    "?error_percentage"
   ]
  },
  {
   "cell_type": "code",
   "execution_count": 94,
   "id": "33fbe141",
   "metadata": {},
   "outputs": [
    {
     "data": {
      "text/plain": [
       "-0.013329999999999984"
      ]
     },
     "execution_count": 94,
     "metadata": {},
     "output_type": "execute_result"
    }
   ],
   "source": [
    "error_percentage(101.333, 100.00)"
   ]
  },
  {
   "cell_type": "markdown",
   "id": "b45c51d1",
   "metadata": {},
   "source": [
    "There's a list of useful built-in python functions that we should always be aware of https://docs.python.org/3/library/functions.html. E.g. round is useful in this case"
   ]
  },
  {
   "cell_type": "code",
   "execution_count": 95,
   "id": "0a780680",
   "metadata": {},
   "outputs": [
    {
     "data": {
      "text/plain": [
       "-0.01"
      ]
     },
     "execution_count": 95,
     "metadata": {},
     "output_type": "execute_result"
    }
   ],
   "source": [
    "round(error_percentage(101.333, 100.00), 2)"
   ]
  },
  {
   "cell_type": "markdown",
   "id": "be877829",
   "metadata": {},
   "source": [
    "Add optional values to function"
   ]
  },
  {
   "cell_type": "code",
   "execution_count": 101,
   "id": "8389358b",
   "metadata": {},
   "outputs": [
    {
     "name": "stdout",
     "output_type": "stream",
     "text": [
      "3\n",
      "3\n",
      "3\n"
     ]
    }
   ],
   "source": [
    "def nurvv_sum(a, b, c=0, d=0):\n",
    "    return a+b+c+d\n",
    "\n",
    "print(nurvv_sum(1,2))\n",
    "print(nurvv_sum(a=1,b=2,c=0))\n",
    "print(nurvv_sum(1,2,0,0))"
   ]
  },
  {
   "cell_type": "markdown",
   "id": "ca960916",
   "metadata": {},
   "source": [
    "Note that the 3 and 4 arguments are optional. When not provided, these default to 0."
   ]
  },
  {
   "cell_type": "markdown",
   "id": "2597df4c",
   "metadata": {},
   "source": [
    "## Numpy\n",
    "This is the most important library when it comes to scientifc computing. Some examples below"
   ]
  },
  {
   "cell_type": "code",
   "execution_count": 19,
   "id": "94afb6b6",
   "metadata": {},
   "outputs": [],
   "source": [
    "import numpy as np"
   ]
  },
  {
   "cell_type": "markdown",
   "id": "99c1d3e8",
   "metadata": {},
   "source": [
    "Declare 1D vector"
   ]
  },
  {
   "cell_type": "code",
   "execution_count": 52,
   "id": "8c5a66bd",
   "metadata": {},
   "outputs": [
    {
     "data": {
      "text/plain": [
       "array([1, 2, 3])"
      ]
     },
     "execution_count": 52,
     "metadata": {},
     "output_type": "execute_result"
    }
   ],
   "source": [
    "a = np.array([1,2,3])\n",
    "a"
   ]
  },
  {
   "cell_type": "code",
   "execution_count": 53,
   "id": "d38020cd",
   "metadata": {
    "scrolled": true
   },
   "outputs": [
    {
     "data": {
      "text/plain": [
       "array([ 5, 10, 15])"
      ]
     },
     "execution_count": 53,
     "metadata": {},
     "output_type": "execute_result"
    }
   ],
   "source": [
    "a * 5"
   ]
  },
  {
   "cell_type": "markdown",
   "id": "aafa790e",
   "metadata": {},
   "source": [
    "Declare 1D vector vertically"
   ]
  },
  {
   "cell_type": "code",
   "execution_count": 7,
   "id": "2816934e",
   "metadata": {},
   "outputs": [
    {
     "data": {
      "text/plain": [
       "array([[1],\n",
       "       [2],\n",
       "       [3]])"
      ]
     },
     "execution_count": 7,
     "metadata": {},
     "output_type": "execute_result"
    }
   ],
   "source": [
    "b = np.array([[1],[2],[3]])\n",
    "b"
   ]
  },
  {
   "cell_type": "markdown",
   "id": "cd902fb8",
   "metadata": {},
   "source": [
    "Matrix multiplication @"
   ]
  },
  {
   "cell_type": "code",
   "execution_count": 54,
   "id": "357509f1",
   "metadata": {},
   "outputs": [
    {
     "data": {
      "text/plain": [
       "array([14])"
      ]
     },
     "execution_count": 54,
     "metadata": {},
     "output_type": "execute_result"
    }
   ],
   "source": [
    "a @ b"
   ]
  },
  {
   "cell_type": "markdown",
   "id": "26a01f4d",
   "metadata": {},
   "source": [
    "Define a matrix"
   ]
  },
  {
   "cell_type": "code",
   "execution_count": 15,
   "id": "3e3abc2d",
   "metadata": {},
   "outputs": [
    {
     "data": {
      "text/plain": [
       "matrix([[ 1,  5,  3],\n",
       "        [ 3,  2,  1],\n",
       "        [ 8, -1,  7]])"
      ]
     },
     "execution_count": 15,
     "metadata": {},
     "output_type": "execute_result"
    }
   ],
   "source": [
    "c = np.mat([[1,5,3], [3,2,1], [8,-1,7]])\n",
    "c"
   ]
  },
  {
   "cell_type": "markdown",
   "id": "e52e33bf",
   "metadata": {},
   "source": [
    "Transpose an array"
   ]
  },
  {
   "cell_type": "code",
   "execution_count": 55,
   "id": "4e72359c",
   "metadata": {},
   "outputs": [
    {
     "data": {
      "text/plain": [
       "matrix([[20, 10, 27]])"
      ]
     },
     "execution_count": 55,
     "metadata": {},
     "output_type": "execute_result"
    }
   ],
   "source": [
    "(c @ b).T"
   ]
  },
  {
   "cell_type": "markdown",
   "id": "65b816d6",
   "metadata": {},
   "source": [
    "Invert matrix"
   ]
  },
  {
   "cell_type": "code",
   "execution_count": 56,
   "id": "f61bcb92",
   "metadata": {},
   "outputs": [
    {
     "data": {
      "text/plain": [
       "matrix([[-0.14018692,  0.35514019,  0.00934579],\n",
       "        [ 0.12149533,  0.1588785 , -0.07476636],\n",
       "        [ 0.17757009, -0.38317757,  0.12149533]])"
      ]
     },
     "execution_count": 56,
     "metadata": {},
     "output_type": "execute_result"
    }
   ],
   "source": [
    "np.linalg.inv(c)"
   ]
  },
  {
   "cell_type": "markdown",
   "id": "857d4356",
   "metadata": {},
   "source": [
    "## Pandas\n",
    "This is the most used library when it comes to play with datasets, due to its \"table\"-like structure and how easy it is to analyse and manipulate data. Some examples below"
   ]
  },
  {
   "cell_type": "code",
   "execution_count": 20,
   "id": "513e409f",
   "metadata": {},
   "outputs": [],
   "source": [
    "import pandas as pd"
   ]
  },
  {
   "cell_type": "markdown",
   "id": "c365c962",
   "metadata": {},
   "source": [
    "create dataframe from dictionary"
   ]
  },
  {
   "cell_type": "code",
   "execution_count": 57,
   "id": "1689acb2",
   "metadata": {},
   "outputs": [
    {
     "data": {
      "text/html": [
       "<div>\n",
       "<style scoped>\n",
       "    .dataframe tbody tr th:only-of-type {\n",
       "        vertical-align: middle;\n",
       "    }\n",
       "\n",
       "    .dataframe tbody tr th {\n",
       "        vertical-align: top;\n",
       "    }\n",
       "\n",
       "    .dataframe thead th {\n",
       "        text-align: right;\n",
       "    }\n",
       "</style>\n",
       "<table border=\"1\" class=\"dataframe\">\n",
       "  <thead>\n",
       "    <tr style=\"text-align: right;\">\n",
       "      <th></th>\n",
       "      <th>col1</th>\n",
       "      <th>col2</th>\n",
       "    </tr>\n",
       "  </thead>\n",
       "  <tbody>\n",
       "    <tr>\n",
       "      <th>0</th>\n",
       "      <td>1</td>\n",
       "      <td>3</td>\n",
       "    </tr>\n",
       "    <tr>\n",
       "      <th>1</th>\n",
       "      <td>2</td>\n",
       "      <td>4</td>\n",
       "    </tr>\n",
       "  </tbody>\n",
       "</table>\n",
       "</div>"
      ],
      "text/plain": [
       "   col1  col2\n",
       "0     1     3\n",
       "1     2     4"
      ]
     },
     "execution_count": 57,
     "metadata": {},
     "output_type": "execute_result"
    }
   ],
   "source": [
    "d = {\n",
    "    'col1': [1, 2], \n",
    "    'col2': [3, 4]\n",
    "}\n",
    "\n",
    "df = pd.DataFrame(data=d)\n",
    "df"
   ]
  },
  {
   "cell_type": "markdown",
   "id": "d3365bfc",
   "metadata": {},
   "source": [
    "Dataframe with 1 single array of data is a Series and works differently than a Dataframe"
   ]
  },
  {
   "cell_type": "code",
   "execution_count": 58,
   "id": "1d71b8fd",
   "metadata": {},
   "outputs": [
    {
     "data": {
      "text/plain": [
       "0    1.0\n",
       "1    3.0\n",
       "2    5.0\n",
       "3    NaN\n",
       "4    6.0\n",
       "5    8.0\n",
       "dtype: float64"
      ]
     },
     "execution_count": 58,
     "metadata": {},
     "output_type": "execute_result"
    }
   ],
   "source": [
    "series = pd.Series([1, 3, 5, np.nan, 6, 8])\n",
    "series"
   ]
  },
  {
   "cell_type": "markdown",
   "id": "40a625e6",
   "metadata": {},
   "source": [
    "it can be converted like this though"
   ]
  },
  {
   "cell_type": "code",
   "execution_count": 59,
   "id": "2b588887",
   "metadata": {},
   "outputs": [
    {
     "data": {
      "text/html": [
       "<div>\n",
       "<style scoped>\n",
       "    .dataframe tbody tr th:only-of-type {\n",
       "        vertical-align: middle;\n",
       "    }\n",
       "\n",
       "    .dataframe tbody tr th {\n",
       "        vertical-align: top;\n",
       "    }\n",
       "\n",
       "    .dataframe thead th {\n",
       "        text-align: right;\n",
       "    }\n",
       "</style>\n",
       "<table border=\"1\" class=\"dataframe\">\n",
       "  <thead>\n",
       "    <tr style=\"text-align: right;\">\n",
       "      <th></th>\n",
       "      <th>0</th>\n",
       "    </tr>\n",
       "  </thead>\n",
       "  <tbody>\n",
       "    <tr>\n",
       "      <th>0</th>\n",
       "      <td>1.0</td>\n",
       "    </tr>\n",
       "    <tr>\n",
       "      <th>1</th>\n",
       "      <td>3.0</td>\n",
       "    </tr>\n",
       "    <tr>\n",
       "      <th>2</th>\n",
       "      <td>5.0</td>\n",
       "    </tr>\n",
       "    <tr>\n",
       "      <th>3</th>\n",
       "      <td>NaN</td>\n",
       "    </tr>\n",
       "    <tr>\n",
       "      <th>4</th>\n",
       "      <td>6.0</td>\n",
       "    </tr>\n",
       "    <tr>\n",
       "      <th>5</th>\n",
       "      <td>8.0</td>\n",
       "    </tr>\n",
       "  </tbody>\n",
       "</table>\n",
       "</div>"
      ],
      "text/plain": [
       "     0\n",
       "0  1.0\n",
       "1  3.0\n",
       "2  5.0\n",
       "3  NaN\n",
       "4  6.0\n",
       "5  8.0"
      ]
     },
     "execution_count": 59,
     "metadata": {},
     "output_type": "execute_result"
    }
   ],
   "source": [
    "series.to_frame()"
   ]
  },
  {
   "cell_type": "markdown",
   "id": "4543776a",
   "metadata": {},
   "source": [
    "create dataframe from matrix of data and specifying index and columns"
   ]
  },
  {
   "cell_type": "code",
   "execution_count": 60,
   "id": "f78629ee",
   "metadata": {},
   "outputs": [
    {
     "data": {
      "text/html": [
       "<div>\n",
       "<style scoped>\n",
       "    .dataframe tbody tr th:only-of-type {\n",
       "        vertical-align: middle;\n",
       "    }\n",
       "\n",
       "    .dataframe tbody tr th {\n",
       "        vertical-align: top;\n",
       "    }\n",
       "\n",
       "    .dataframe thead th {\n",
       "        text-align: right;\n",
       "    }\n",
       "</style>\n",
       "<table border=\"1\" class=\"dataframe\">\n",
       "  <thead>\n",
       "    <tr style=\"text-align: right;\">\n",
       "      <th></th>\n",
       "      <th>A</th>\n",
       "      <th>B</th>\n",
       "      <th>C</th>\n",
       "      <th>D</th>\n",
       "    </tr>\n",
       "  </thead>\n",
       "  <tbody>\n",
       "    <tr>\n",
       "      <th>1</th>\n",
       "      <td>-0.012054</td>\n",
       "      <td>0.300895</td>\n",
       "      <td>-0.762101</td>\n",
       "      <td>-0.154179</td>\n",
       "    </tr>\n",
       "    <tr>\n",
       "      <th>2</th>\n",
       "      <td>-1.115281</td>\n",
       "      <td>0.399992</td>\n",
       "      <td>1.090776</td>\n",
       "      <td>-0.169797</td>\n",
       "    </tr>\n",
       "    <tr>\n",
       "      <th>3</th>\n",
       "      <td>-0.931443</td>\n",
       "      <td>1.291985</td>\n",
       "      <td>-1.215296</td>\n",
       "      <td>-1.765792</td>\n",
       "    </tr>\n",
       "    <tr>\n",
       "      <th>4</th>\n",
       "      <td>1.046181</td>\n",
       "      <td>1.225774</td>\n",
       "      <td>1.789680</td>\n",
       "      <td>-0.011235</td>\n",
       "    </tr>\n",
       "    <tr>\n",
       "      <th>5</th>\n",
       "      <td>0.222073</td>\n",
       "      <td>-1.058860</td>\n",
       "      <td>-0.257120</td>\n",
       "      <td>1.816344</td>\n",
       "    </tr>\n",
       "    <tr>\n",
       "      <th>6</th>\n",
       "      <td>-1.912702</td>\n",
       "      <td>1.297859</td>\n",
       "      <td>-1.464443</td>\n",
       "      <td>0.047572</td>\n",
       "    </tr>\n",
       "  </tbody>\n",
       "</table>\n",
       "</div>"
      ],
      "text/plain": [
       "          A         B         C         D\n",
       "1 -0.012054  0.300895 -0.762101 -0.154179\n",
       "2 -1.115281  0.399992  1.090776 -0.169797\n",
       "3 -0.931443  1.291985 -1.215296 -1.765792\n",
       "4  1.046181  1.225774  1.789680 -0.011235\n",
       "5  0.222073 -1.058860 -0.257120  1.816344\n",
       "6 -1.912702  1.297859 -1.464443  0.047572"
      ]
     },
     "execution_count": 60,
     "metadata": {},
     "output_type": "execute_result"
    }
   ],
   "source": [
    "df = pd.DataFrame(np.random.randn(6, 4), index=[1,2,3,4,5,6], columns=[\"A\", \"B\", \"C\", \"D\"])\n",
    "df"
   ]
  },
  {
   "cell_type": "markdown",
   "id": "853f4eae",
   "metadata": {},
   "source": [
    "get head of dataframe and print it AND get tail of dataframe"
   ]
  },
  {
   "cell_type": "code",
   "execution_count": 61,
   "id": "430ce94c",
   "metadata": {},
   "outputs": [
    {
     "name": "stdout",
     "output_type": "stream",
     "text": [
      "          A         B         C         D\n",
      "1 -0.012054  0.300895 -0.762101 -0.154179\n",
      "2 -1.115281  0.399992  1.090776 -0.169797\n",
      "3 -0.931443  1.291985 -1.215296 -1.765792\n"
     ]
    },
    {
     "data": {
      "text/html": [
       "<div>\n",
       "<style scoped>\n",
       "    .dataframe tbody tr th:only-of-type {\n",
       "        vertical-align: middle;\n",
       "    }\n",
       "\n",
       "    .dataframe tbody tr th {\n",
       "        vertical-align: top;\n",
       "    }\n",
       "\n",
       "    .dataframe thead th {\n",
       "        text-align: right;\n",
       "    }\n",
       "</style>\n",
       "<table border=\"1\" class=\"dataframe\">\n",
       "  <thead>\n",
       "    <tr style=\"text-align: right;\">\n",
       "      <th></th>\n",
       "      <th>A</th>\n",
       "      <th>B</th>\n",
       "      <th>C</th>\n",
       "      <th>D</th>\n",
       "    </tr>\n",
       "  </thead>\n",
       "  <tbody>\n",
       "    <tr>\n",
       "      <th>4</th>\n",
       "      <td>1.046181</td>\n",
       "      <td>1.225774</td>\n",
       "      <td>1.789680</td>\n",
       "      <td>-0.011235</td>\n",
       "    </tr>\n",
       "    <tr>\n",
       "      <th>5</th>\n",
       "      <td>0.222073</td>\n",
       "      <td>-1.058860</td>\n",
       "      <td>-0.257120</td>\n",
       "      <td>1.816344</td>\n",
       "    </tr>\n",
       "    <tr>\n",
       "      <th>6</th>\n",
       "      <td>-1.912702</td>\n",
       "      <td>1.297859</td>\n",
       "      <td>-1.464443</td>\n",
       "      <td>0.047572</td>\n",
       "    </tr>\n",
       "  </tbody>\n",
       "</table>\n",
       "</div>"
      ],
      "text/plain": [
       "          A         B         C         D\n",
       "4  1.046181  1.225774  1.789680 -0.011235\n",
       "5  0.222073 -1.058860 -0.257120  1.816344\n",
       "6 -1.912702  1.297859 -1.464443  0.047572"
      ]
     },
     "execution_count": 61,
     "metadata": {},
     "output_type": "execute_result"
    }
   ],
   "source": [
    "print(df.head(n=3).to_string())\n",
    "df.tail(n=3)"
   ]
  },
  {
   "cell_type": "markdown",
   "id": "873af319",
   "metadata": {},
   "source": [
    "Filtering is extremely important!! This is one of the best features associated with dataframes"
   ]
  },
  {
   "cell_type": "code",
   "execution_count": 62,
   "id": "23e9e2ee",
   "metadata": {},
   "outputs": [
    {
     "data": {
      "text/html": [
       "<div>\n",
       "<style scoped>\n",
       "    .dataframe tbody tr th:only-of-type {\n",
       "        vertical-align: middle;\n",
       "    }\n",
       "\n",
       "    .dataframe tbody tr th {\n",
       "        vertical-align: top;\n",
       "    }\n",
       "\n",
       "    .dataframe thead th {\n",
       "        text-align: right;\n",
       "    }\n",
       "</style>\n",
       "<table border=\"1\" class=\"dataframe\">\n",
       "  <thead>\n",
       "    <tr style=\"text-align: right;\">\n",
       "      <th></th>\n",
       "      <th>A</th>\n",
       "      <th>B</th>\n",
       "      <th>C</th>\n",
       "      <th>D</th>\n",
       "    </tr>\n",
       "  </thead>\n",
       "  <tbody>\n",
       "    <tr>\n",
       "      <th>3</th>\n",
       "      <td>-0.931443</td>\n",
       "      <td>1.291985</td>\n",
       "      <td>-1.215296</td>\n",
       "      <td>-1.765792</td>\n",
       "    </tr>\n",
       "    <tr>\n",
       "      <th>4</th>\n",
       "      <td>1.046181</td>\n",
       "      <td>1.225774</td>\n",
       "      <td>1.789680</td>\n",
       "      <td>-0.011235</td>\n",
       "    </tr>\n",
       "    <tr>\n",
       "      <th>6</th>\n",
       "      <td>-1.912702</td>\n",
       "      <td>1.297859</td>\n",
       "      <td>-1.464443</td>\n",
       "      <td>0.047572</td>\n",
       "    </tr>\n",
       "  </tbody>\n",
       "</table>\n",
       "</div>"
      ],
      "text/plain": [
       "          A         B         C         D\n",
       "3 -0.931443  1.291985 -1.215296 -1.765792\n",
       "4  1.046181  1.225774  1.789680 -0.011235\n",
       "6 -1.912702  1.297859 -1.464443  0.047572"
      ]
     },
     "execution_count": 62,
     "metadata": {},
     "output_type": "execute_result"
    }
   ],
   "source": [
    "df[df[\"B\"] > .5]"
   ]
  },
  {
   "cell_type": "markdown",
   "id": "15d994c9",
   "metadata": {},
   "source": [
    "Any type of logical can be used in this filtering, similar to Matlab"
   ]
  },
  {
   "cell_type": "code",
   "execution_count": 63,
   "id": "38535720",
   "metadata": {},
   "outputs": [
    {
     "data": {
      "text/html": [
       "<div>\n",
       "<style scoped>\n",
       "    .dataframe tbody tr th:only-of-type {\n",
       "        vertical-align: middle;\n",
       "    }\n",
       "\n",
       "    .dataframe tbody tr th {\n",
       "        vertical-align: top;\n",
       "    }\n",
       "\n",
       "    .dataframe thead th {\n",
       "        text-align: right;\n",
       "    }\n",
       "</style>\n",
       "<table border=\"1\" class=\"dataframe\">\n",
       "  <thead>\n",
       "    <tr style=\"text-align: right;\">\n",
       "      <th></th>\n",
       "      <th>A</th>\n",
       "      <th>C</th>\n",
       "    </tr>\n",
       "  </thead>\n",
       "  <tbody>\n",
       "  </tbody>\n",
       "</table>\n",
       "</div>"
      ],
      "text/plain": [
       "Empty DataFrame\n",
       "Columns: [A, C]\n",
       "Index: []"
      ]
     },
     "execution_count": 63,
     "metadata": {},
     "output_type": "execute_result"
    }
   ],
   "source": [
    "condition_filter = (df[\"B\"] > .5) & (df[\"B\"] < 0.9)\n",
    "df[condition_filter][[\"A\", \"C\"]]"
   ]
  },
  {
   "cell_type": "markdown",
   "id": "23ef84fc",
   "metadata": {},
   "source": [
    "slicing is also critical. iloc slices based on index position. Note: NOT index value."
   ]
  },
  {
   "cell_type": "code",
   "execution_count": 64,
   "id": "2b617777",
   "metadata": {},
   "outputs": [
    {
     "data": {
      "text/html": [
       "<div>\n",
       "<style scoped>\n",
       "    .dataframe tbody tr th:only-of-type {\n",
       "        vertical-align: middle;\n",
       "    }\n",
       "\n",
       "    .dataframe tbody tr th {\n",
       "        vertical-align: top;\n",
       "    }\n",
       "\n",
       "    .dataframe thead th {\n",
       "        text-align: right;\n",
       "    }\n",
       "</style>\n",
       "<table border=\"1\" class=\"dataframe\">\n",
       "  <thead>\n",
       "    <tr style=\"text-align: right;\">\n",
       "      <th></th>\n",
       "      <th>A</th>\n",
       "      <th>B</th>\n",
       "      <th>C</th>\n",
       "      <th>D</th>\n",
       "    </tr>\n",
       "  </thead>\n",
       "  <tbody>\n",
       "    <tr>\n",
       "      <th>3</th>\n",
       "      <td>-0.931443</td>\n",
       "      <td>1.291985</td>\n",
       "      <td>-1.215296</td>\n",
       "      <td>-1.765792</td>\n",
       "    </tr>\n",
       "    <tr>\n",
       "      <th>4</th>\n",
       "      <td>1.046181</td>\n",
       "      <td>1.225774</td>\n",
       "      <td>1.789680</td>\n",
       "      <td>-0.011235</td>\n",
       "    </tr>\n",
       "  </tbody>\n",
       "</table>\n",
       "</div>"
      ],
      "text/plain": [
       "          A         B         C         D\n",
       "3 -0.931443  1.291985 -1.215296 -1.765792\n",
       "4  1.046181  1.225774  1.789680 -0.011235"
      ]
     },
     "execution_count": 64,
     "metadata": {},
     "output_type": "execute_result"
    }
   ],
   "source": [
    "df.iloc[2:4]"
   ]
  },
  {
   "cell_type": "markdown",
   "id": "65ced87b",
   "metadata": {},
   "source": [
    "IMPORTANT. When filtering, slicing or accessing a part of the dataframe, the dataframe doesn't get changed. If we want to do so we need to re-assign it."
   ]
  },
  {
   "cell_type": "code",
   "execution_count": 66,
   "id": "7038eccf",
   "metadata": {},
   "outputs": [
    {
     "name": "stdout",
     "output_type": "stream",
     "text": [
      "          A         B         C         D\n",
      "1 -0.012054  0.300895 -0.762101 -0.154179\n",
      "2 -1.115281  0.399992  1.090776 -0.169797\n",
      "3 -0.931443  1.291985 -1.215296 -1.765792\n",
      "4  1.046181  1.225774  1.789680 -0.011235\n",
      "5  0.222073 -1.058860 -0.257120  1.816344\n",
      "6 -1.912702  1.297859 -1.464443  0.047572\n",
      "          A         B         C         D\n",
      "3 -0.931443  1.291985 -1.215296 -1.765792\n",
      "4  1.046181  1.225774  1.789680 -0.011235\n"
     ]
    }
   ],
   "source": [
    "print(df.to_string())\n",
    "df = df.iloc[2:4]\n",
    "print(df.to_string())"
   ]
  },
  {
   "cell_type": "markdown",
   "id": "0c613c4c",
   "metadata": {},
   "source": [
    "If we want to keep original dataframe and create a copy to play with, we can use copy method like this"
   ]
  },
  {
   "cell_type": "code",
   "execution_count": 68,
   "id": "51c8deca",
   "metadata": {},
   "outputs": [
    {
     "data": {
      "text/html": [
       "<div>\n",
       "<style scoped>\n",
       "    .dataframe tbody tr th:only-of-type {\n",
       "        vertical-align: middle;\n",
       "    }\n",
       "\n",
       "    .dataframe tbody tr th {\n",
       "        vertical-align: top;\n",
       "    }\n",
       "\n",
       "    .dataframe thead th {\n",
       "        text-align: right;\n",
       "    }\n",
       "</style>\n",
       "<table border=\"1\" class=\"dataframe\">\n",
       "  <thead>\n",
       "    <tr style=\"text-align: right;\">\n",
       "      <th></th>\n",
       "      <th>A</th>\n",
       "      <th>B</th>\n",
       "      <th>C</th>\n",
       "      <th>D</th>\n",
       "    </tr>\n",
       "  </thead>\n",
       "  <tbody>\n",
       "    <tr>\n",
       "      <th>3</th>\n",
       "      <td>-0.931443</td>\n",
       "      <td>1.291985</td>\n",
       "      <td>-1.215296</td>\n",
       "      <td>-1.765792</td>\n",
       "    </tr>\n",
       "    <tr>\n",
       "      <th>4</th>\n",
       "      <td>1.046181</td>\n",
       "      <td>1.225774</td>\n",
       "      <td>1.789680</td>\n",
       "      <td>-0.011235</td>\n",
       "    </tr>\n",
       "  </tbody>\n",
       "</table>\n",
       "</div>"
      ],
      "text/plain": [
       "          A         B         C         D\n",
       "3 -0.931443  1.291985 -1.215296 -1.765792\n",
       "4  1.046181  1.225774  1.789680 -0.011235"
      ]
     },
     "execution_count": 68,
     "metadata": {},
     "output_type": "execute_result"
    }
   ],
   "source": [
    "df_copy = df.copy()\n",
    "df_copy"
   ]
  },
  {
   "cell_type": "markdown",
   "id": "42f68cbd",
   "metadata": {},
   "source": [
    "## Matplotlib\n",
    "This is the most used library when it comes to plotting. I usually just re-use the format of a plot from one code to another, and the structure remains the same."
   ]
  },
  {
   "cell_type": "code",
   "execution_count": 70,
   "id": "22d8dc98",
   "metadata": {},
   "outputs": [],
   "source": [
    "from matplotlib import pyplot as plt"
   ]
  },
  {
   "cell_type": "code",
   "execution_count": 97,
   "id": "d6984678",
   "metadata": {},
   "outputs": [
    {
     "data": {
      "image/png": "[encoded data removed]",
      "text/plain": [
       "<Figure size 1440x360 with 2 Axes>"
      ]
     },
     "metadata": {
      "needs_background": "light"
     },
     "output_type": "display_data"
    }
   ],
   "source": [
    "plt.figure(figsize=(20, 5))\n",
    "plt.subplot(221)\n",
    "plt.subplot(222)\n",
    "plt.axhline([3], c='red')\n",
    "plt.plot([1,2,3,4], [5,2,7,4], '--', c='tab:blue', lw=5)\n",
    "plt.legend([\"horizontal\", \"zig zag\"])\n",
    "plt.xlim([1,4])\n",
    "plt.ylim([0,9])\n",
    "plt.grid()\n",
    "plt.xlabel(\"x-axis\")\n",
    "plt.ylabel(\"y-axis\")\n",
    "plt.title(\"Lines\")\n",
    "plt.show()"
   ]
  },
  {
   "cell_type": "code",
   "execution_count": null,
   "id": "58bd3685",
   "metadata": {},
   "outputs": [],
   "source": []
  }
 ],
 "metadata": {
  "kernelspec": {
   "display_name": "Python 3 (ipykernel)",
   "language": "python",
   "name": "python3"
  },
  "language_info": {
   "codemirror_mode": {
    "name": "ipython",
    "version": 3
   },
   "file_extension": ".py",
   "mimetype": "text/x-python",
   "name": "python",
   "nbconvert_exporter": "python",
   "pygments_lexer": "ipython3",
   "version": "3.8.6"
  },
  "varInspector": {
   "cols": {
    "lenName": 16,
    "lenType": 16,
    "lenVar": 40
   },
   "kernels_config": {
    "python": {
     "delete_cmd_postfix": "",
     "delete_cmd_prefix": "del ",
     "library": "var_list.py",
     "varRefreshCmd": "print(var_dic_list())"
    },
    "r": {
     "delete_cmd_postfix": ") ",
     "delete_cmd_prefix": "rm(",
     "library": "var_list.r",
     "varRefreshCmd": "cat(var_dic_list()) "
    }
   },
   "types_to_exclude": [
    "module",
    "function",
    "builtin_function_or_method",
    "instance",
    "_Feature"
   ],
   "window_display": false
  }
 },
 "nbformat": 4,
 "nbformat_minor": 5
}
